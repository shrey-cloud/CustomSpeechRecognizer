{
  "nbformat": 4,
  "nbformat_minor": 0,
  "metadata": {
    "colab": {
      "name": "PCA.ipynb",
      "provenance": [],
      "include_colab_link": true
    },
    "kernelspec": {
      "name": "python3",
      "display_name": "Python 3"
    },
    "language_info": {
      "name": "python"
    }
  },
  "cells": [
    {
      "cell_type": "markdown",
      "metadata": {
        "id": "view-in-github",
        "colab_type": "text"
      },
      "source": [
        "<a href=\"https://colab.research.google.com/github/shrey-cloud/CustomSpeechRecognizer/blob/master/PCA.ipynb\" target=\"_parent\"><img src=\"https://colab.research.google.com/assets/colab-badge.svg\" alt=\"Open In Colab\"/></a>"
      ]
    },
    {
      "cell_type": "markdown",
      "source": [
        "###Name: Tushar P Gavkhare \n",
        "###Date: 28/03/2022\n",
        "###Roll no: A3_57\n",
        "###Prn: 0120190374\n",
        "#Feature Selection & PCA\n",
        "#####link: https://colab.research.google.com/drive/1a-Dqwc80n6yLlH5qWw2NZtqL4rGUj7lT?usp=sharing "
      ],
      "metadata": {
        "id": "qOD71vDmq6dm"
      }
    },
    {
      "cell_type": "code",
      "execution_count": 2,
      "metadata": {
        "colab": {
          "base_uri": "https://localhost:8080/",
          "height": 206
        },
        "id": "ytf7HUmkxkK9",
        "outputId": "1090466f-d865-47f0-f722-d7649aa0f047"
      },
      "outputs": [
        {
          "output_type": "execute_result",
          "data": {
            "text/plain": [
              "      CRIM    ZN  INDUS  CHAS    NOX     RM   AGE     DIS  RAD    TAX  \\\n",
              "0  0.00632  18.0   2.31     0  0.538  6.575  65.2  4.0900    1  296.0   \n",
              "1  0.02731   0.0   7.07     0  0.469  6.421  78.9  4.9671    2  242.0   \n",
              "2  0.02729   0.0   7.07     0  0.469  7.185  61.1  4.9671    2  242.0   \n",
              "3  0.03237   0.0   2.18     0  0.458  6.998  45.8  6.0622    3  222.0   \n",
              "4  0.06905   0.0   2.18     0  0.458  7.147  54.2  6.0622    3  222.0   \n",
              "\n",
              "   PTRATIO       B  LSTAT  MEDV  \n",
              "0     15.3  396.90   4.98  24.0  \n",
              "1     17.8  396.90   9.14  21.6  \n",
              "2     17.8  392.83   4.03  34.7  \n",
              "3     18.7  394.63   2.94  33.4  \n",
              "4     18.7  396.90   5.33  36.2  "
            ],
            "text/html": [
              "\n",
              "  <div id=\"df-9a8f9cc0-6708-4a5f-9433-78edb1b5691f\">\n",
              "    <div class=\"colab-df-container\">\n",
              "      <div>\n",
              "<style scoped>\n",
              "    .dataframe tbody tr th:only-of-type {\n",
              "        vertical-align: middle;\n",
              "    }\n",
              "\n",
              "    .dataframe tbody tr th {\n",
              "        vertical-align: top;\n",
              "    }\n",
              "\n",
              "    .dataframe thead th {\n",
              "        text-align: right;\n",
              "    }\n",
              "</style>\n",
              "<table border=\"1\" class=\"dataframe\">\n",
              "  <thead>\n",
              "    <tr style=\"text-align: right;\">\n",
              "      <th></th>\n",
              "      <th>CRIM</th>\n",
              "      <th>ZN</th>\n",
              "      <th>INDUS</th>\n",
              "      <th>CHAS</th>\n",
              "      <th>NOX</th>\n",
              "      <th>RM</th>\n",
              "      <th>AGE</th>\n",
              "      <th>DIS</th>\n",
              "      <th>RAD</th>\n",
              "      <th>TAX</th>\n",
              "      <th>PTRATIO</th>\n",
              "      <th>B</th>\n",
              "      <th>LSTAT</th>\n",
              "      <th>MEDV</th>\n",
              "    </tr>\n",
              "  </thead>\n",
              "  <tbody>\n",
              "    <tr>\n",
              "      <th>0</th>\n",
              "      <td>0.00632</td>\n",
              "      <td>18.0</td>\n",
              "      <td>2.31</td>\n",
              "      <td>0</td>\n",
              "      <td>0.538</td>\n",
              "      <td>6.575</td>\n",
              "      <td>65.2</td>\n",
              "      <td>4.0900</td>\n",
              "      <td>1</td>\n",
              "      <td>296.0</td>\n",
              "      <td>15.3</td>\n",
              "      <td>396.90</td>\n",
              "      <td>4.98</td>\n",
              "      <td>24.0</td>\n",
              "    </tr>\n",
              "    <tr>\n",
              "      <th>1</th>\n",
              "      <td>0.02731</td>\n",
              "      <td>0.0</td>\n",
              "      <td>7.07</td>\n",
              "      <td>0</td>\n",
              "      <td>0.469</td>\n",
              "      <td>6.421</td>\n",
              "      <td>78.9</td>\n",
              "      <td>4.9671</td>\n",
              "      <td>2</td>\n",
              "      <td>242.0</td>\n",
              "      <td>17.8</td>\n",
              "      <td>396.90</td>\n",
              "      <td>9.14</td>\n",
              "      <td>21.6</td>\n",
              "    </tr>\n",
              "    <tr>\n",
              "      <th>2</th>\n",
              "      <td>0.02729</td>\n",
              "      <td>0.0</td>\n",
              "      <td>7.07</td>\n",
              "      <td>0</td>\n",
              "      <td>0.469</td>\n",
              "      <td>7.185</td>\n",
              "      <td>61.1</td>\n",
              "      <td>4.9671</td>\n",
              "      <td>2</td>\n",
              "      <td>242.0</td>\n",
              "      <td>17.8</td>\n",
              "      <td>392.83</td>\n",
              "      <td>4.03</td>\n",
              "      <td>34.7</td>\n",
              "    </tr>\n",
              "    <tr>\n",
              "      <th>3</th>\n",
              "      <td>0.03237</td>\n",
              "      <td>0.0</td>\n",
              "      <td>2.18</td>\n",
              "      <td>0</td>\n",
              "      <td>0.458</td>\n",
              "      <td>6.998</td>\n",
              "      <td>45.8</td>\n",
              "      <td>6.0622</td>\n",
              "      <td>3</td>\n",
              "      <td>222.0</td>\n",
              "      <td>18.7</td>\n",
              "      <td>394.63</td>\n",
              "      <td>2.94</td>\n",
              "      <td>33.4</td>\n",
              "    </tr>\n",
              "    <tr>\n",
              "      <th>4</th>\n",
              "      <td>0.06905</td>\n",
              "      <td>0.0</td>\n",
              "      <td>2.18</td>\n",
              "      <td>0</td>\n",
              "      <td>0.458</td>\n",
              "      <td>7.147</td>\n",
              "      <td>54.2</td>\n",
              "      <td>6.0622</td>\n",
              "      <td>3</td>\n",
              "      <td>222.0</td>\n",
              "      <td>18.7</td>\n",
              "      <td>396.90</td>\n",
              "      <td>5.33</td>\n",
              "      <td>36.2</td>\n",
              "    </tr>\n",
              "  </tbody>\n",
              "</table>\n",
              "</div>\n",
              "      <button class=\"colab-df-convert\" onclick=\"convertToInteractive('df-9a8f9cc0-6708-4a5f-9433-78edb1b5691f')\"\n",
              "              title=\"Convert this dataframe to an interactive table.\"\n",
              "              style=\"display:none;\">\n",
              "        \n",
              "  <svg xmlns=\"http://www.w3.org/2000/svg\" height=\"24px\"viewBox=\"0 0 24 24\"\n",
              "       width=\"24px\">\n",
              "    <path d=\"M0 0h24v24H0V0z\" fill=\"none\"/>\n",
              "    <path d=\"M18.56 5.44l.94 2.06.94-2.06 2.06-.94-2.06-.94-.94-2.06-.94 2.06-2.06.94zm-11 1L8.5 8.5l.94-2.06 2.06-.94-2.06-.94L8.5 2.5l-.94 2.06-2.06.94zm10 10l.94 2.06.94-2.06 2.06-.94-2.06-.94-.94-2.06-.94 2.06-2.06.94z\"/><path d=\"M17.41 7.96l-1.37-1.37c-.4-.4-.92-.59-1.43-.59-.52 0-1.04.2-1.43.59L10.3 9.45l-7.72 7.72c-.78.78-.78 2.05 0 2.83L4 21.41c.39.39.9.59 1.41.59.51 0 1.02-.2 1.41-.59l7.78-7.78 2.81-2.81c.8-.78.8-2.07 0-2.86zM5.41 20L4 18.59l7.72-7.72 1.47 1.35L5.41 20z\"/>\n",
              "  </svg>\n",
              "      </button>\n",
              "      \n",
              "  <style>\n",
              "    .colab-df-container {\n",
              "      display:flex;\n",
              "      flex-wrap:wrap;\n",
              "      gap: 12px;\n",
              "    }\n",
              "\n",
              "    .colab-df-convert {\n",
              "      background-color: #E8F0FE;\n",
              "      border: none;\n",
              "      border-radius: 50%;\n",
              "      cursor: pointer;\n",
              "      display: none;\n",
              "      fill: #1967D2;\n",
              "      height: 32px;\n",
              "      padding: 0 0 0 0;\n",
              "      width: 32px;\n",
              "    }\n",
              "\n",
              "    .colab-df-convert:hover {\n",
              "      background-color: #E2EBFA;\n",
              "      box-shadow: 0px 1px 2px rgba(60, 64, 67, 0.3), 0px 1px 3px 1px rgba(60, 64, 67, 0.15);\n",
              "      fill: #174EA6;\n",
              "    }\n",
              "\n",
              "    [theme=dark] .colab-df-convert {\n",
              "      background-color: #3B4455;\n",
              "      fill: #D2E3FC;\n",
              "    }\n",
              "\n",
              "    [theme=dark] .colab-df-convert:hover {\n",
              "      background-color: #434B5C;\n",
              "      box-shadow: 0px 1px 3px 1px rgba(0, 0, 0, 0.15);\n",
              "      filter: drop-shadow(0px 1px 2px rgba(0, 0, 0, 0.3));\n",
              "      fill: #FFFFFF;\n",
              "    }\n",
              "  </style>\n",
              "\n",
              "      <script>\n",
              "        const buttonEl =\n",
              "          document.querySelector('#df-9a8f9cc0-6708-4a5f-9433-78edb1b5691f button.colab-df-convert');\n",
              "        buttonEl.style.display =\n",
              "          google.colab.kernel.accessAllowed ? 'block' : 'none';\n",
              "\n",
              "        async function convertToInteractive(key) {\n",
              "          const element = document.querySelector('#df-9a8f9cc0-6708-4a5f-9433-78edb1b5691f');\n",
              "          const dataTable =\n",
              "            await google.colab.kernel.invokeFunction('convertToInteractive',\n",
              "                                                     [key], {});\n",
              "          if (!dataTable) return;\n",
              "\n",
              "          const docLinkHtml = 'Like what you see? Visit the ' +\n",
              "            '<a target=\"_blank\" href=https://colab.research.google.com/notebooks/data_table.ipynb>data table notebook</a>'\n",
              "            + ' to learn more about interactive tables.';\n",
              "          element.innerHTML = '';\n",
              "          dataTable['output_type'] = 'display_data';\n",
              "          await google.colab.output.renderOutput(dataTable, element);\n",
              "          const docLink = document.createElement('div');\n",
              "          docLink.innerHTML = docLinkHtml;\n",
              "          element.appendChild(docLink);\n",
              "        }\n",
              "      </script>\n",
              "    </div>\n",
              "  </div>\n",
              "  "
            ]
          },
          "metadata": {},
          "execution_count": 2
        }
      ],
      "source": [
        "import numpy as np\n",
        "import pandas as pd\n",
        "import matplotlib.pyplot as plt\n",
        "%matplotlib inline\n",
        "column_names = ['CRIM', 'ZN', 'INDUS', 'CHAS', 'NOX', 'RM', 'AGE', 'DIS', 'RAD', 'TAX', 'PTRATIO', 'B', 'LSTAT', 'MEDV']\n",
        "dataset = pd.read_csv('https://raw.githubusercontent.com/niranjangirhe/dataset/main/housing.csv', header=None, delimiter=r\"\\s+\", names=column_names)\n",
        "\n",
        "dataset.head()"
      ]
    },
    {
      "cell_type": "code",
      "source": [
        "print(dataset)"
      ],
      "metadata": {
        "colab": {
          "base_uri": "https://localhost:8080/"
        },
        "id": "O3-RyjfAxZpv",
        "outputId": "68b33207-c8a4-4f3a-ea25-8989495d181b"
      },
      "execution_count": 3,
      "outputs": [
        {
          "output_type": "stream",
          "name": "stdout",
          "text": [
            "        CRIM    ZN  INDUS  CHAS    NOX     RM   AGE     DIS  RAD    TAX  \\\n",
            "0    0.00632  18.0   2.31     0  0.538  6.575  65.2  4.0900    1  296.0   \n",
            "1    0.02731   0.0   7.07     0  0.469  6.421  78.9  4.9671    2  242.0   \n",
            "2    0.02729   0.0   7.07     0  0.469  7.185  61.1  4.9671    2  242.0   \n",
            "3    0.03237   0.0   2.18     0  0.458  6.998  45.8  6.0622    3  222.0   \n",
            "4    0.06905   0.0   2.18     0  0.458  7.147  54.2  6.0622    3  222.0   \n",
            "..       ...   ...    ...   ...    ...    ...   ...     ...  ...    ...   \n",
            "501  0.06263   0.0  11.93     0  0.573  6.593  69.1  2.4786    1  273.0   \n",
            "502  0.04527   0.0  11.93     0  0.573  6.120  76.7  2.2875    1  273.0   \n",
            "503  0.06076   0.0  11.93     0  0.573  6.976  91.0  2.1675    1  273.0   \n",
            "504  0.10959   0.0  11.93     0  0.573  6.794  89.3  2.3889    1  273.0   \n",
            "505  0.04741   0.0  11.93     0  0.573  6.030  80.8  2.5050    1  273.0   \n",
            "\n",
            "     PTRATIO       B  LSTAT  MEDV  \n",
            "0       15.3  396.90   4.98  24.0  \n",
            "1       17.8  396.90   9.14  21.6  \n",
            "2       17.8  392.83   4.03  34.7  \n",
            "3       18.7  394.63   2.94  33.4  \n",
            "4       18.7  396.90   5.33  36.2  \n",
            "..       ...     ...    ...   ...  \n",
            "501     21.0  391.99   9.67  22.4  \n",
            "502     21.0  396.90   9.08  20.6  \n",
            "503     21.0  396.90   5.64  23.9  \n",
            "504     21.0  393.45   6.48  22.0  \n",
            "505     21.0  396.90   7.88  11.9  \n",
            "\n",
            "[506 rows x 14 columns]\n"
          ]
        }
      ]
    },
    {
      "cell_type": "code",
      "source": [
        "class PCA:\n",
        "    \n",
        "    # I will denote components as features here\n",
        "    # Though its not mathematically accurate but machine learning it works \n",
        "    def __init__(self,number_of_important_features=2):\n",
        "        # number of specified features\n",
        "        # Default being passed as 2\n",
        "        self.number_of_important_features=number_of_important_features\n",
        "        # Best possible features\n",
        "        self.features=None\n",
        "        self._mean=None\n",
        "        \n",
        "        \n",
        "    def fit(self,X):\n",
        "        # placing mean to as origin of axis\n",
        "        # axis =0 is mean of rows along the column direction \n",
        "        self._mean=np.mean(X,axis=0)\n",
        "        X=X-self._mean\n",
        "        \n",
        "        # Co-variance of N,D -->DxD\n",
        "        # Also called Autocorrelation as both are X's\n",
        "        covariance=np.dot(X.T,X)/(X.shape[0]-1)\n",
        "        print(covariance.shape)\n",
        "        \n",
        "        # Eigenvalues,eigenvectors detail discussion below\n",
        "        # Eigenvector is the vector which doesnot chnage it span(simply, direction) after matrix transformation\n",
        "        # So, why eigen importance. Best intuitive way to say\n",
        "        # for 3D object, the eigenvector represents its axis of rotation(For earth eigenvector is the axis of rotation)\n",
        "        # Formula A(matrix).v(eigenvector)=lambda(eigenvalue).v(eigenvector)\n",
        "        # So, Intuitively above formula means, matrix transformation of eigenvector is the eigenvector scaled by eigenvalue\n",
        "        # Here we are finding the eigenvector and eigenvalue of the covariance matrix\n",
        "        # how to solve is (A-lambda.I(identity matrix))-v=0,  As v is non-zero --> det(A-lambda.I)=0(area under transformation=0)\n",
        "        # Here lambda is the knob by tweaking it, we change the det = 0\n",
        "        # We can do all this by only one line of code, isnt it awesome!!!\n",
        "        # There is very powerful application of eigen's i.e eigenbasis-->diagonalisation()\n",
        "        # A gift for the patience\n",
        "        # you can say this to your gf or bf --> \"My love for you is like eigenvector\"\n",
        "        eigenvalues,eigenvector=np.linalg.eig(covariance)\n",
        "        print(\"eigenvalues-->\",eigenvalues.shape)\n",
        "        print(\"eigenvalues \\n\",eigenvalues)\n",
        "        print(\"eigenvector-->\",eigenvector.shape)\n",
        "        print(\"eigenvector \\n\",eigenvector)\n",
        "        #sort the eigenvalues from highest to lowest\n",
        "        # If we didnt transpose, then applying indexs will require more steps and computation\n",
        "        eigenvector=eigenvector.T\n",
        "        print(\"eigenvector.T-->\",eigenvector.shape)\n",
        "        print(\"eigenvector after Transpose\\n\",eigenvector)\n",
        "        indexs=np.argsort(eigenvalues)[::-1]\n",
        "        #taking those indices and storing in eigenvalues and eigenvectors accordingly\n",
        "        eigenvector=eigenvector[indexs]\n",
        "        print(\"eigenvector-indexs-->\",eigenvector.shape)\n",
        "        print(\"eigenvector after indexes \\n\",eigenvector)\n",
        "        eigenvalues=eigenvalues[indexs]\n",
        "        print(\"eigenvalues-indexs-->\",eigenvalues.shape)\n",
        "        print(\"eigenvalues \\n\",eigenvalues)\n",
        "        \n",
        "        ## This below code snippet is for seeing how to determine which feature to be calculated\n",
        "        total = sum(eigenvalues)\n",
        "        variance_of_each_feature = [(i / total)*100 for i in eigenvalues]\n",
        "        print(\"variance of each feature-->\",variance_of_each_feature)\n",
        "        \n",
        "        # Now taking only number of specified componenets\n",
        "        self.features=eigenvector[:self.number_of_important_features]\n",
        "        print(\"self.features\",self.features.shape)\n",
        "        # So, now the we have chosen most significant features componenet\n",
        "        \n",
        "    def apply(self,X):\n",
        "      # Here we project the data onto Principal component line\n",
        "        X=X-self._mean\n",
        "        # Check the dimensionality with (.shape) to confirm for yourselves\n",
        "        # Here X-->(N,4);self.features-->2,4\n",
        "        # (X,self.features.T)-->(N,4)x(4,2)==(N,2) i.e N samples with 2 feature vector \n",
        "        return np.dot(X,self.features.T)"
      ],
      "metadata": {
        "id": "7SE2WOHH0JVu"
      },
      "execution_count": 4,
      "outputs": []
    },
    {
      "cell_type": "code",
      "source": [
        "X = dataset.iloc[:,:]"
      ],
      "metadata": {
        "id": "gXvkSM710uJE"
      },
      "execution_count": 5,
      "outputs": []
    },
    {
      "cell_type": "code",
      "source": [
        "print(X)"
      ],
      "metadata": {
        "colab": {
          "base_uri": "https://localhost:8080/"
        },
        "id": "hEwzPvuw0xij",
        "outputId": "c587302a-864b-4f6d-b9c3-53d47794a531"
      },
      "execution_count": 6,
      "outputs": [
        {
          "output_type": "stream",
          "name": "stdout",
          "text": [
            "        CRIM    ZN  INDUS  CHAS    NOX     RM   AGE     DIS  RAD    TAX  \\\n",
            "0    0.00632  18.0   2.31     0  0.538  6.575  65.2  4.0900    1  296.0   \n",
            "1    0.02731   0.0   7.07     0  0.469  6.421  78.9  4.9671    2  242.0   \n",
            "2    0.02729   0.0   7.07     0  0.469  7.185  61.1  4.9671    2  242.0   \n",
            "3    0.03237   0.0   2.18     0  0.458  6.998  45.8  6.0622    3  222.0   \n",
            "4    0.06905   0.0   2.18     0  0.458  7.147  54.2  6.0622    3  222.0   \n",
            "..       ...   ...    ...   ...    ...    ...   ...     ...  ...    ...   \n",
            "501  0.06263   0.0  11.93     0  0.573  6.593  69.1  2.4786    1  273.0   \n",
            "502  0.04527   0.0  11.93     0  0.573  6.120  76.7  2.2875    1  273.0   \n",
            "503  0.06076   0.0  11.93     0  0.573  6.976  91.0  2.1675    1  273.0   \n",
            "504  0.10959   0.0  11.93     0  0.573  6.794  89.3  2.3889    1  273.0   \n",
            "505  0.04741   0.0  11.93     0  0.573  6.030  80.8  2.5050    1  273.0   \n",
            "\n",
            "     PTRATIO       B  LSTAT  MEDV  \n",
            "0       15.3  396.90   4.98  24.0  \n",
            "1       17.8  396.90   9.14  21.6  \n",
            "2       17.8  392.83   4.03  34.7  \n",
            "3       18.7  394.63   2.94  33.4  \n",
            "4       18.7  396.90   5.33  36.2  \n",
            "..       ...     ...    ...   ...  \n",
            "501     21.0  391.99   9.67  22.4  \n",
            "502     21.0  396.90   9.08  20.6  \n",
            "503     21.0  396.90   5.64  23.9  \n",
            "504     21.0  393.45   6.48  22.0  \n",
            "505     21.0  396.90   7.88  11.9  \n",
            "\n",
            "[506 rows x 14 columns]\n"
          ]
        }
      ]
    },
    {
      "cell_type": "code",
      "source": [
        "from sklearn.preprocessing import StandardScaler\n",
        "X = StandardScaler().fit_transform(X)\n",
        "print(X[0:5])"
      ],
      "metadata": {
        "colab": {
          "base_uri": "https://localhost:8080/"
        },
        "id": "oL5bx5vH0e5n",
        "outputId": "ec2da5c5-f7b8-425a-a521-b7395b986e73"
      },
      "execution_count": 7,
      "outputs": [
        {
          "output_type": "stream",
          "name": "stdout",
          "text": [
            "[[-0.41978194  0.28482986 -1.2879095  -0.27259857 -0.14421743  0.41367189\n",
            "  -0.12001342  0.1402136  -0.98284286 -0.66660821 -1.45900038  0.44105193\n",
            "  -1.0755623   0.15968566]\n",
            " [-0.41733926 -0.48772236 -0.59338101 -0.27259857 -0.74026221  0.19427445\n",
            "   0.36716642  0.55715988 -0.8678825  -0.98732948 -0.30309415  0.44105193\n",
            "  -0.49243937 -0.10152429]\n",
            " [-0.41734159 -0.48772236 -0.59338101 -0.27259857 -0.74026221  1.28271368\n",
            "  -0.26581176  0.55715988 -0.8678825  -0.98732948 -0.30309415  0.39642699\n",
            "  -1.2087274   1.32424667]\n",
            " [-0.41675042 -0.48772236 -1.30687771 -0.27259857 -0.83528384  1.01630251\n",
            "  -0.80988851  1.07773662 -0.75292215 -1.10611514  0.1130321   0.41616284\n",
            "  -1.36151682  1.18275795]\n",
            " [-0.41248185 -0.48772236 -1.30687771 -0.27259857 -0.83528384  1.22857665\n",
            "  -0.51117971  1.07773662 -0.75292215 -1.10611514  0.1130321   0.44105193\n",
            "  -1.02650148  1.48750288]]\n"
          ]
        }
      ]
    },
    {
      "cell_type": "code",
      "source": [
        "y = dataset['MEDV']"
      ],
      "metadata": {
        "id": "5xvThC3z2JQF"
      },
      "execution_count": 8,
      "outputs": []
    },
    {
      "cell_type": "code",
      "source": [
        "from sklearn.feature_selection import SequentialFeatureSelector as sfs\n",
        "#I am going to use RandomForestRegressor algoritham as an estimator. Your can select other regression alogritham as well.\n",
        "from sklearn.ensemble import RandomForestRegressor\n",
        "#k_features=10 (It will get top 10 features best suited for prediction)\n",
        "#forward=True (Forward feature selection model)\n",
        "#verbose=2 (It will show details output as shown below.)\n",
        "#cv=5 (Kfold cross valiation: it will split the training set in 5 set and 4 will be using for training the model and 1 will using as validation)\n",
        "#n_jobs=-1 (Number of cores it will use for execution.-1 means it will use all the cores of CPU for execution.)\n",
        "#scoring='r2'(R-squared is a statistical measure of how close the data are to the fitted regression line)\n",
        "model_forward=sfs(RandomForestRegressor(),n_features_to_select=7, direction = 'forward')\n",
        "model_forward.fit(X,y)\n",
        "model_backward=sfs(RandomForestRegressor(),n_features_to_select=7, direction = 'backward')\n",
        "model_backward.fit(X,y)"
      ],
      "metadata": {
        "id": "TNUZZ0NRknk_"
      },
      "execution_count": null,
      "outputs": []
    },
    {
      "cell_type": "code",
      "source": [
        "Wrapper_support_forward = model_forward.get_support()\n",
        "Wrapper_support_backward = model_backward.get_support()\n",
        "print(Wrapper_support_forward)\n",
        "print(Wrapper_support_backward)\n",
        "print(column_names)"
      ],
      "metadata": {
        "colab": {
          "base_uri": "https://localhost:8080/"
        },
        "id": "LhyDu2nLncJy",
        "outputId": "5c74aee2-05a6-4e3d-d22b-3eb35d7665d9"
      },
      "execution_count": null,
      "outputs": [
        {
          "output_type": "stream",
          "name": "stdout",
          "text": [
            "[False False False  True False False False False  True False False False\n",
            " False  True]\n",
            "[False False False  True False False  True False False False False False\n",
            " False  True]\n",
            "['CRIM', 'ZN', 'INDUS', 'CHAS', 'NOX', 'RM', 'AGE', 'DIS', 'RAD', 'TAX', 'PTRATIO', 'B', 'LSTAT', 'MEDV']\n"
          ]
        }
      ]
    },
    {
      "cell_type": "code",
      "source": [
        "print(\"This are the selected features using Wrapper with Random FOrest and forward approach\")\n",
        "for i in range(14):\n",
        "  if(Wrapper_support_forward[i] == True):\n",
        "      print(column_names[i])\n",
        "print(\"This are the selected features using Wrapper with Random FOrest and backward approach\")\n",
        "for i in range(14):\n",
        "  if(Wrapper_support_backward[i] == True):\n",
        "      print(column_names[i])"
      ],
      "metadata": {
        "colab": {
          "base_uri": "https://localhost:8080/"
        },
        "id": "Yu-zzLhBn1RE",
        "outputId": "08910f23-d1df-45e8-ba55-6398ea3fe15d"
      },
      "execution_count": null,
      "outputs": [
        {
          "output_type": "stream",
          "name": "stdout",
          "text": [
            "This are the selected features using Wrapper with Random FOrest and forward approach\n",
            "CHAS\n",
            "RAD\n",
            "MEDV\n",
            "This are the selected features using Wrapper with Random FOrest and backward approach\n",
            "CHAS\n",
            "AGE\n",
            "MEDV\n"
          ]
        }
      ]
    },
    {
      "cell_type": "markdown",
      "source": [
        "Embeded with Decision Tree"
      ],
      "metadata": {
        "id": "GNLKb1XSkiAx"
      }
    },
    {
      "cell_type": "code",
      "source": [
        "from sklearn.feature_selection import SelectKBest\n",
        "from sklearn.feature_selection import chi2\n",
        "from sklearn.preprocessing import MinMaxScaler\n",
        "X_norm = MinMaxScaler().fit_transform(X)\n"
      ],
      "metadata": {
        "id": "YtgHK3jCgzQT"
      },
      "execution_count": null,
      "outputs": []
    },
    {
      "cell_type": "code",
      "source": [
        "from sklearn.feature_selection import SelectFromModel\n",
        "from sklearn.tree import DecisionTreeRegressor\n",
        "\n",
        "embeded_dt_selector = SelectFromModel(DecisionTreeRegressor(), threshold='1.25*median')\n",
        "embeded_dt_selector.fit(X_norm, y)"
      ],
      "metadata": {
        "colab": {
          "base_uri": "https://localhost:8080/"
        },
        "id": "ZoobNc_ecOHi",
        "outputId": "ab0df13c-b069-4164-b4be-91e908a3e62a"
      },
      "execution_count": null,
      "outputs": [
        {
          "output_type": "execute_result",
          "data": {
            "text/plain": [
              "SelectFromModel(estimator=DecisionTreeRegressor(), threshold='1.25*median')"
            ]
          },
          "metadata": {},
          "execution_count": 30
        }
      ]
    },
    {
      "cell_type": "code",
      "source": [
        "embeded_dt_support = embeded_dt_selector.get_support()\n",
        "print(embeded_dt_support)\n",
        "print(column_names)\n",
        "#embeded_rf_feature = X.iloc[:,embeded_rf_support].columns.tolist()\n",
        "#print(str(len(embeded_rf_feature)), 'selected features')"
      ],
      "metadata": {
        "colab": {
          "base_uri": "https://localhost:8080/"
        },
        "id": "iAKs-hyecYAp",
        "outputId": "dee622fa-4050-4e5c-e000-787992fe9293"
      },
      "execution_count": null,
      "outputs": [
        {
          "output_type": "stream",
          "name": "stdout",
          "text": [
            "[ True False False False False  True  True  True False False  True False\n",
            "  True  True]\n",
            "['CRIM', 'ZN', 'INDUS', 'CHAS', 'NOX', 'RM', 'AGE', 'DIS', 'RAD', 'TAX', 'PTRATIO', 'B', 'LSTAT', 'MEDV']\n"
          ]
        }
      ]
    },
    {
      "cell_type": "code",
      "source": [
        "print(\"This are the selected features using Embeded with Decisiomn tree\")\n",
        "for i in range(14):\n",
        "  if(embeded_dt_support[i] == True):\n",
        "      print(column_names[i])\n",
        "  "
      ],
      "metadata": {
        "colab": {
          "base_uri": "https://localhost:8080/"
        },
        "id": "vs2WD6HYj8V2",
        "outputId": "2c495c1d-1be1-4945-8714-be44e390580b"
      },
      "execution_count": null,
      "outputs": [
        {
          "output_type": "stream",
          "name": "stdout",
          "text": [
            "This are the selected features using Embeded with Decisiomn tree\n",
            "CRIM\n",
            "RM\n",
            "AGE\n",
            "DIS\n",
            "PTRATIO\n",
            "LSTAT\n",
            "MEDV\n"
          ]
        }
      ]
    },
    {
      "cell_type": "markdown",
      "source": [
        "PCA"
      ],
      "metadata": {
        "id": "-fGMbNAWkf83"
      }
    },
    {
      "cell_type": "code",
      "source": [
        "pca=PCA(2)"
      ],
      "metadata": {
        "id": "DmIFrewC06GI"
      },
      "execution_count": null,
      "outputs": []
    },
    {
      "cell_type": "code",
      "source": [
        "pca.fit(X)"
      ],
      "metadata": {
        "colab": {
          "base_uri": "https://localhost:8080/"
        },
        "id": "Hn_fjAa_0_34",
        "outputId": "2f0d051c-8820-4992-8284-f2d6c4b4ab0b"
      },
      "execution_count": null,
      "outputs": [
        {
          "output_type": "stream",
          "name": "stdout",
          "text": [
            "(14, 14)\n",
            "eigenvalues--> (14,)\n",
            "eigenvalues \n",
            " [6.55895193 1.65279831 1.35157702 0.88829539 0.85258439 0.66131773\n",
            " 0.53647102 0.40387475 0.06044612 0.13427506 0.27781262 0.25275696\n",
            " 0.18334985 0.21321162]\n",
            "eigenvector--> (14, 14)\n",
            "eigenvector \n",
            " [[ 2.42284451e-01 -6.58731079e-02  3.95077419e-01  1.00366211e-01\n",
            "   4.95765921e-03  2.24627030e-01  7.77083366e-01  1.57401402e-01\n",
            "  -5.91141759e-02 -9.70323119e-02 -2.54211798e-01  7.13846149e-02\n",
            "  -6.32761157e-02 -7.10687807e-02]\n",
            " [-2.45435005e-01 -1.48002653e-01  3.94545713e-01  3.42958421e-01\n",
            "   1.14495002e-01  3.35746944e-01 -2.74178365e-01 -3.80314042e-01\n",
            "   9.62968067e-02  1.32375830e-01 -3.82899480e-01 -2.45579673e-01\n",
            "   2.21122101e-01 -1.27709065e-01]\n",
            " [ 3.31859746e-01  1.27075668e-01 -6.60819134e-02 -9.62693566e-03\n",
            "  -2.25836917e-02  8.08249519e-02 -3.40273839e-01  1.71745781e-01\n",
            "   2.35472877e-01 -8.37168543e-02 -6.27048264e-01  2.54827026e-01\n",
            "  -3.48408284e-01  2.73797614e-01]\n",
            " [-5.02713285e-03  4.10668763e-01 -1.25305293e-01  7.00406497e-01\n",
            "  -5.35197817e-01 -1.62649056e-01  7.40757751e-02 -3.29270041e-02\n",
            "  -2.34889657e-02  4.99174539e-02  1.86429670e-02  4.17069157e-02\n",
            "   1.90397469e-02 -9.96840221e-03]\n",
            " [ 3.25193880e-01  2.54276363e-01 -4.64755487e-02  5.37075825e-02\n",
            "   1.94605570e-01  1.48991906e-01 -1.98092965e-01  4.74583814e-02\n",
            "  -8.76491484e-02 -5.24974687e-01  4.30243906e-02  2.11620349e-01\n",
            "   4.49093566e-01 -4.37475550e-01]\n",
            " [-2.02816554e-01  4.34005810e-01  3.53406095e-01 -2.93357309e-01\n",
            "  -8.32048140e-03 -1.31080559e-01  7.40849381e-02 -4.37615662e-01\n",
            "  -7.19051500e-03  4.98935961e-02  3.66694703e-03  5.26133916e-01\n",
            "   1.25605540e-01  2.23951923e-01]\n",
            " [ 2.96976574e-01  2.60303205e-01 -2.00823078e-01 -7.84263261e-02\n",
            "   1.49750092e-01  6.08695963e-02  1.18580363e-01 -5.88105687e-01\n",
            "   3.82270273e-02  5.14625621e-02  4.32658224e-02 -2.45647942e-01\n",
            "  -4.86339045e-01 -3.29630928e-01]\n",
            " [-2.98169809e-01 -3.59149977e-01  1.57068710e-01  1.84747787e-01\n",
            "  -1.06219480e-01 -1.16233540e-02 -1.04397844e-01 -1.28230604e-01\n",
            "  -4.71240287e-02 -5.52292172e-01  1.75802196e-01  2.99412026e-01\n",
            "  -4.93568220e-01 -1.14600078e-01]\n",
            " [ 3.03412754e-01  3.11495955e-02  4.18510334e-01 -5.13743811e-02\n",
            "  -2.30352185e-01  1.34937322e-01 -1.37080107e-01  7.46487153e-02\n",
            "   6.34975332e-01  6.27847431e-03  4.63439397e-01 -1.15793486e-01\n",
            "  -1.86364119e-02  4.22133485e-02]\n",
            " [ 3.24033052e-01  8.85140554e-03  3.43232194e-01 -2.68106947e-02\n",
            "  -1.63425820e-01  1.88471462e-01 -3.13984433e-01  7.09921237e-02\n",
            "  -6.98822190e-01  2.42987756e-01  1.79446555e-01  8.36641308e-03\n",
            "  -1.70421793e-01  4.27940542e-02]\n",
            " [ 2.07679535e-01 -3.14623061e-01  3.99092044e-04 -3.42036328e-01\n",
            "  -6.15707380e-01 -2.79017309e-01  1.48560832e-03 -2.83469595e-01\n",
            "  -5.57381600e-02 -1.88347079e-01 -2.74525949e-01 -1.60474164e-01\n",
            "   2.32148422e-01 -9.99918413e-02]\n",
            " [-1.96638358e-01  2.64810325e-02 -3.61375914e-01 -2.01741185e-01\n",
            "  -3.67460674e-01  7.85907284e-01  7.48427805e-02 -4.44417533e-02\n",
            "   1.61652795e-02  2.10781985e-02  6.09756507e-02  1.46292237e-01\n",
            "   4.15288525e-02  3.91948578e-02]\n",
            " [ 3.11397955e-01 -2.01245177e-01 -1.61060336e-01  2.42621217e-01\n",
            "   1.78358870e-01  9.19721068e-02  8.32130826e-02 -3.57482467e-01\n",
            "  -8.31437946e-02 -2.49489863e-01  1.71810921e-01 -6.66472668e-02\n",
            "   1.81892088e-01  6.83032690e-01]\n",
            " [-2.66636396e-01  4.44924411e-01  1.63188735e-01 -1.80297553e-01\n",
            "  -5.06598928e-02  5.40280379e-02 -9.96497280e-03  1.52308790e-01\n",
            "  -1.34127182e-01 -4.69629324e-01 -7.07510826e-02 -5.75547284e-01\n",
            "  -9.82858002e-02  2.42001064e-01]]\n",
            "eigenvector.T--> (14, 14)\n",
            "eigenvector after Transpose\n",
            " [[ 2.42284451e-01 -2.45435005e-01  3.31859746e-01 -5.02713285e-03\n",
            "   3.25193880e-01 -2.02816554e-01  2.96976574e-01 -2.98169809e-01\n",
            "   3.03412754e-01  3.24033052e-01  2.07679535e-01 -1.96638358e-01\n",
            "   3.11397955e-01 -2.66636396e-01]\n",
            " [-6.58731079e-02 -1.48002653e-01  1.27075668e-01  4.10668763e-01\n",
            "   2.54276363e-01  4.34005810e-01  2.60303205e-01 -3.59149977e-01\n",
            "   3.11495955e-02  8.85140554e-03 -3.14623061e-01  2.64810325e-02\n",
            "  -2.01245177e-01  4.44924411e-01]\n",
            " [ 3.95077419e-01  3.94545713e-01 -6.60819134e-02 -1.25305293e-01\n",
            "  -4.64755487e-02  3.53406095e-01 -2.00823078e-01  1.57068710e-01\n",
            "   4.18510334e-01  3.43232194e-01  3.99092044e-04 -3.61375914e-01\n",
            "  -1.61060336e-01  1.63188735e-01]\n",
            " [ 1.00366211e-01  3.42958421e-01 -9.62693566e-03  7.00406497e-01\n",
            "   5.37075825e-02 -2.93357309e-01 -7.84263261e-02  1.84747787e-01\n",
            "  -5.13743811e-02 -2.68106947e-02 -3.42036328e-01 -2.01741185e-01\n",
            "   2.42621217e-01 -1.80297553e-01]\n",
            " [ 4.95765921e-03  1.14495002e-01 -2.25836917e-02 -5.35197817e-01\n",
            "   1.94605570e-01 -8.32048140e-03  1.49750092e-01 -1.06219480e-01\n",
            "  -2.30352185e-01 -1.63425820e-01 -6.15707380e-01 -3.67460674e-01\n",
            "   1.78358870e-01 -5.06598928e-02]\n",
            " [ 2.24627030e-01  3.35746944e-01  8.08249519e-02 -1.62649056e-01\n",
            "   1.48991906e-01 -1.31080559e-01  6.08695963e-02 -1.16233540e-02\n",
            "   1.34937322e-01  1.88471462e-01 -2.79017309e-01  7.85907284e-01\n",
            "   9.19721068e-02  5.40280379e-02]\n",
            " [ 7.77083366e-01 -2.74178365e-01 -3.40273839e-01  7.40757751e-02\n",
            "  -1.98092965e-01  7.40849381e-02  1.18580363e-01 -1.04397844e-01\n",
            "  -1.37080107e-01 -3.13984433e-01  1.48560832e-03  7.48427805e-02\n",
            "   8.32130826e-02 -9.96497280e-03]\n",
            " [ 1.57401402e-01 -3.80314042e-01  1.71745781e-01 -3.29270041e-02\n",
            "   4.74583814e-02 -4.37615662e-01 -5.88105687e-01 -1.28230604e-01\n",
            "   7.46487153e-02  7.09921237e-02 -2.83469595e-01 -4.44417533e-02\n",
            "  -3.57482467e-01  1.52308790e-01]\n",
            " [-5.91141759e-02  9.62968067e-02  2.35472877e-01 -2.34889657e-02\n",
            "  -8.76491484e-02 -7.19051500e-03  3.82270273e-02 -4.71240287e-02\n",
            "   6.34975332e-01 -6.98822190e-01 -5.57381600e-02  1.61652795e-02\n",
            "  -8.31437946e-02 -1.34127182e-01]\n",
            " [-9.70323119e-02  1.32375830e-01 -8.37168543e-02  4.99174539e-02\n",
            "  -5.24974687e-01  4.98935961e-02  5.14625621e-02 -5.52292172e-01\n",
            "   6.27847431e-03  2.42987756e-01 -1.88347079e-01  2.10781985e-02\n",
            "  -2.49489863e-01 -4.69629324e-01]\n",
            " [-2.54211798e-01 -3.82899480e-01 -6.27048264e-01  1.86429670e-02\n",
            "   4.30243906e-02  3.66694703e-03  4.32658224e-02  1.75802196e-01\n",
            "   4.63439397e-01  1.79446555e-01 -2.74525949e-01  6.09756507e-02\n",
            "   1.71810921e-01 -7.07510826e-02]\n",
            " [ 7.13846149e-02 -2.45579673e-01  2.54827026e-01  4.17069157e-02\n",
            "   2.11620349e-01  5.26133916e-01 -2.45647942e-01  2.99412026e-01\n",
            "  -1.15793486e-01  8.36641308e-03 -1.60474164e-01  1.46292237e-01\n",
            "  -6.66472668e-02 -5.75547284e-01]\n",
            " [-6.32761157e-02  2.21122101e-01 -3.48408284e-01  1.90397469e-02\n",
            "   4.49093566e-01  1.25605540e-01 -4.86339045e-01 -4.93568220e-01\n",
            "  -1.86364119e-02 -1.70421793e-01  2.32148422e-01  4.15288525e-02\n",
            "   1.81892088e-01 -9.82858002e-02]\n",
            " [-7.10687807e-02 -1.27709065e-01  2.73797614e-01 -9.96840221e-03\n",
            "  -4.37475550e-01  2.23951923e-01 -3.29630928e-01 -1.14600078e-01\n",
            "   4.22133485e-02  4.27940542e-02 -9.99918413e-02  3.91948578e-02\n",
            "   6.83032690e-01  2.42001064e-01]]\n",
            "eigenvector-indexs--> (14, 14)\n",
            "eigenvector after indexes \n",
            " [[ 2.42284451e-01 -2.45435005e-01  3.31859746e-01 -5.02713285e-03\n",
            "   3.25193880e-01 -2.02816554e-01  2.96976574e-01 -2.98169809e-01\n",
            "   3.03412754e-01  3.24033052e-01  2.07679535e-01 -1.96638358e-01\n",
            "   3.11397955e-01 -2.66636396e-01]\n",
            " [-6.58731079e-02 -1.48002653e-01  1.27075668e-01  4.10668763e-01\n",
            "   2.54276363e-01  4.34005810e-01  2.60303205e-01 -3.59149977e-01\n",
            "   3.11495955e-02  8.85140554e-03 -3.14623061e-01  2.64810325e-02\n",
            "  -2.01245177e-01  4.44924411e-01]\n",
            " [ 3.95077419e-01  3.94545713e-01 -6.60819134e-02 -1.25305293e-01\n",
            "  -4.64755487e-02  3.53406095e-01 -2.00823078e-01  1.57068710e-01\n",
            "   4.18510334e-01  3.43232194e-01  3.99092044e-04 -3.61375914e-01\n",
            "  -1.61060336e-01  1.63188735e-01]\n",
            " [ 1.00366211e-01  3.42958421e-01 -9.62693566e-03  7.00406497e-01\n",
            "   5.37075825e-02 -2.93357309e-01 -7.84263261e-02  1.84747787e-01\n",
            "  -5.13743811e-02 -2.68106947e-02 -3.42036328e-01 -2.01741185e-01\n",
            "   2.42621217e-01 -1.80297553e-01]\n",
            " [ 4.95765921e-03  1.14495002e-01 -2.25836917e-02 -5.35197817e-01\n",
            "   1.94605570e-01 -8.32048140e-03  1.49750092e-01 -1.06219480e-01\n",
            "  -2.30352185e-01 -1.63425820e-01 -6.15707380e-01 -3.67460674e-01\n",
            "   1.78358870e-01 -5.06598928e-02]\n",
            " [ 2.24627030e-01  3.35746944e-01  8.08249519e-02 -1.62649056e-01\n",
            "   1.48991906e-01 -1.31080559e-01  6.08695963e-02 -1.16233540e-02\n",
            "   1.34937322e-01  1.88471462e-01 -2.79017309e-01  7.85907284e-01\n",
            "   9.19721068e-02  5.40280379e-02]\n",
            " [ 7.77083366e-01 -2.74178365e-01 -3.40273839e-01  7.40757751e-02\n",
            "  -1.98092965e-01  7.40849381e-02  1.18580363e-01 -1.04397844e-01\n",
            "  -1.37080107e-01 -3.13984433e-01  1.48560832e-03  7.48427805e-02\n",
            "   8.32130826e-02 -9.96497280e-03]\n",
            " [ 1.57401402e-01 -3.80314042e-01  1.71745781e-01 -3.29270041e-02\n",
            "   4.74583814e-02 -4.37615662e-01 -5.88105687e-01 -1.28230604e-01\n",
            "   7.46487153e-02  7.09921237e-02 -2.83469595e-01 -4.44417533e-02\n",
            "  -3.57482467e-01  1.52308790e-01]\n",
            " [-2.54211798e-01 -3.82899480e-01 -6.27048264e-01  1.86429670e-02\n",
            "   4.30243906e-02  3.66694703e-03  4.32658224e-02  1.75802196e-01\n",
            "   4.63439397e-01  1.79446555e-01 -2.74525949e-01  6.09756507e-02\n",
            "   1.71810921e-01 -7.07510826e-02]\n",
            " [ 7.13846149e-02 -2.45579673e-01  2.54827026e-01  4.17069157e-02\n",
            "   2.11620349e-01  5.26133916e-01 -2.45647942e-01  2.99412026e-01\n",
            "  -1.15793486e-01  8.36641308e-03 -1.60474164e-01  1.46292237e-01\n",
            "  -6.66472668e-02 -5.75547284e-01]\n",
            " [-7.10687807e-02 -1.27709065e-01  2.73797614e-01 -9.96840221e-03\n",
            "  -4.37475550e-01  2.23951923e-01 -3.29630928e-01 -1.14600078e-01\n",
            "   4.22133485e-02  4.27940542e-02 -9.99918413e-02  3.91948578e-02\n",
            "   6.83032690e-01  2.42001064e-01]\n",
            " [-6.32761157e-02  2.21122101e-01 -3.48408284e-01  1.90397469e-02\n",
            "   4.49093566e-01  1.25605540e-01 -4.86339045e-01 -4.93568220e-01\n",
            "  -1.86364119e-02 -1.70421793e-01  2.32148422e-01  4.15288525e-02\n",
            "   1.81892088e-01 -9.82858002e-02]\n",
            " [-9.70323119e-02  1.32375830e-01 -8.37168543e-02  4.99174539e-02\n",
            "  -5.24974687e-01  4.98935961e-02  5.14625621e-02 -5.52292172e-01\n",
            "   6.27847431e-03  2.42987756e-01 -1.88347079e-01  2.10781985e-02\n",
            "  -2.49489863e-01 -4.69629324e-01]\n",
            " [-5.91141759e-02  9.62968067e-02  2.35472877e-01 -2.34889657e-02\n",
            "  -8.76491484e-02 -7.19051500e-03  3.82270273e-02 -4.71240287e-02\n",
            "   6.34975332e-01 -6.98822190e-01 -5.57381600e-02  1.61652795e-02\n",
            "  -8.31437946e-02 -1.34127182e-01]]\n",
            "eigenvalues-indexs--> (14,)\n",
            "eigenvalues \n",
            " [6.55895193 1.65279831 1.35157702 0.88829539 0.85258439 0.66131773\n",
            " 0.53647102 0.40387475 0.27781262 0.25275696 0.21321162 0.18334985\n",
            " 0.13427506 0.06044612]\n",
            "variance of each feature--> [46.75706841894128, 11.782370755269875, 9.635042314463764, 6.3324276367949555, 6.0778531390775905, 4.714362667278543, 3.824362860371281, 2.879118444894304, 1.9804541698966307, 1.8018388527096074, 1.5199303537192475, 1.30705356687771, 0.9572121182235024, 0.4309047014816953]\n",
            "self.features (2, 14)\n"
          ]
        }
      ]
    },
    {
      "cell_type": "code",
      "source": [
        "projected=pca.apply(X)"
      ],
      "metadata": {
        "id": "qMXAYc2B179s"
      },
      "execution_count": null,
      "outputs": []
    },
    {
      "cell_type": "code",
      "source": [
        "x0=projected[:,0]\n",
        "x1=projected[:,1]"
      ],
      "metadata": {
        "id": "kBY0pTNE2Azu"
      },
      "execution_count": null,
      "outputs": []
    },
    {
      "cell_type": "code",
      "source": [
        "plt.scatter(x0,x1,c=y)"
      ],
      "metadata": {
        "colab": {
          "base_uri": "https://localhost:8080/",
          "height": 282
        },
        "id": "QbgOZjCn2VjL",
        "outputId": "502c2211-038f-4f91-e71a-ebd8bd406ec9"
      },
      "execution_count": null,
      "outputs": [
        {
          "output_type": "execute_result",
          "data": {
            "text/plain": [
              "<matplotlib.collections.PathCollection at 0x7f3ee48fbdd0>"
            ]
          },
          "metadata": {},
          "execution_count": 19
        },
        {
          "output_type": "display_data",
          "data": {
            "text/plain": [
              "<Figure size 432x288 with 1 Axes>"
            ],
            "image/png": "[encoded data removed]"
          },
          "metadata": {
            "needs_background": "light"
          }
        }
      ]
    }
  ]
}